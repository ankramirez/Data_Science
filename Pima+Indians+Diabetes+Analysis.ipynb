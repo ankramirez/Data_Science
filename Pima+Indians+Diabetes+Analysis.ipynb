{
  "cells": [
    {
      "cell_type": "markdown",
      "metadata": {
        "id": "view-in-github",
        "colab_type": "text"
      },
      "source": [
        "<a href=\"https://colab.research.google.com/github/ankramirez/Data_Science/blob/main/Pima%2BIndians%2BDiabetes%2BAnalysis.ipynb\" target=\"_parent\"><img src=\"https://colab.research.google.com/assets/colab-badge.svg\" alt=\"Open In Colab\"/></a>"
      ]
    },
    {
      "cell_type": "markdown",
      "metadata": {
        "id": "BL_LfsVn_bv1"
      },
      "source": [
        "# Foundations of Data Science Project - Diabetes Analysis\n",
        "\n",
        "---------------\n",
        "## Context\n",
        "---------------\n",
        "\n",
        "Diabetes is one of the most frequent diseases worldwide and the number of diabetic patients are growing over the years. The main cause of diabetes remains unknown, yet scientists believe that both genetic factors and environmental lifestyle play a major role in diabetes.\n",
        "\n",
        "A few years ago research was done on a tribe in America which is called the Pima tribe (also known as the Pima Indians). In this tribe, it was found that the ladies are prone to diabetes very early. Several constraints were placed on the selection of these instances from a larger database. In particular, all patients were females at least 21 years old of Pima Indian heritage. \n",
        "\n",
        "-----------------\n",
        "## Objective\n",
        "-----------------\n",
        "\n",
        "Here, we are analyzing different aspects of Diabetes in the Pima Indians tribe by doing Exploratory Data Analysis.\n",
        "\n",
        "-------------------------\n",
        "## Data Dictionary\n",
        "-------------------------\n",
        "\n",
        "The dataset has the following information:\n",
        "\n",
        "* Pregnancies: Number of times pregnant\n",
        "* Glucose: Plasma glucose concentration over 2 hours in an oral glucose tolerance test\n",
        "* BloodPressure: Diastolic blood pressure (mm Hg)\n",
        "* SkinThickness: Triceps skin fold thickness (mm)\n",
        "* Insulin: 2-Hour serum insulin (mu U/ml)\n",
        "* BMI: Body mass index (weight in kg/(height in m)^2)\n",
        "* DiabetesPedigreeFunction: A function that scores the likelihood of diabetes based on family history.\n",
        "* Age: Age in years\n",
        "* Outcome: Class variable (0: a person is not diabetic or 1: a person is diabetic)"
      ]
    },
    {
      "cell_type": "markdown",
      "metadata": {
        "id": "vVR3oeVo_bv5"
      },
      "source": [
        "## Q 1: Import the necessary libraries and briefly explain the use of each library (3 Marks)"
      ]
    },
    {
      "cell_type": "code",
      "execution_count": 1,
      "metadata": {
        "id": "sQPI1Bzz_bv5"
      },
      "outputs": [],
      "source": [
        "import numpy as np\n",
        "import pandas as pd\n",
        "\n",
        "import seaborn as sns\n",
        "import matplotlib.pyplot as plt\n",
        "%matplotlib inline"
      ]
    },
    {
      "cell_type": "markdown",
      "metadata": {
        "id": "OV6ExTxy_bv6"
      },
      "source": [
        "#ANS Q1:\n",
        "\n",
        "**Numpy**: It is a fundamental package wich allows us to work with arrays, these arrays facilitate advance mathematical and other types of operations on large number data, numerical analysis can also be performed.\n",
        "\n",
        "**Pandas**: Is a Software Library, allows us to analyse data and manipulate it easily using DataFrames and Series, it's the main tool used to read and write data in various formats.\n",
        "\n",
        "**Seaborn**: Is a data visualization library based on matplotlib for Exploratory Analysis, the API is considerably more friendly than Matplotlib and provides attractive and informative statistical graphics.\n",
        "\n",
        "**Matplotlib**: It is a data visualization library, which initially tried emulating MATLAB. Uses NummPy in order to manage large arrays."
      ]
    },
    {
      "cell_type": "markdown",
      "metadata": {
        "id": "8WpI8LC7_bv7"
      },
      "source": [
        "## Q 2: Read the given dataset (1 Mark)"
      ]
    },
    {
      "cell_type": "markdown",
      "source": [
        "#Q2 OUTCOME"
      ],
      "metadata": {
        "id": "LUQHZPPy-5J4"
      }
    },
    {
      "cell_type": "code",
      "execution_count": 2,
      "metadata": {
        "id": "OTzXe_vA_bv7",
        "colab": {
          "base_uri": "https://localhost:8080/",
          "height": 325
        },
        "outputId": "aea4ccbf-be53-4980-f102-943cc9aa9114"
      },
      "outputs": [
        {
          "output_type": "error",
          "ename": "FileNotFoundError",
          "evalue": "ignored",
          "traceback": [
            "\u001b[0;31m---------------------------------------------------------------------------\u001b[0m",
            "\u001b[0;31mFileNotFoundError\u001b[0m                         Traceback (most recent call last)",
            "\u001b[0;32m<ipython-input-2-0db0432c8b8a>\u001b[0m in \u001b[0;36m<module>\u001b[0;34m\u001b[0m\n\u001b[0;32m----> 1\u001b[0;31m \u001b[0mpima\u001b[0m \u001b[0;34m=\u001b[0m \u001b[0mpd\u001b[0m\u001b[0;34m.\u001b[0m\u001b[0mread_csv\u001b[0m\u001b[0;34m(\u001b[0m\u001b[0;34m\"diabetes.csv\"\u001b[0m\u001b[0;34m)\u001b[0m\u001b[0;34m\u001b[0m\u001b[0;34m\u001b[0m\u001b[0m\n\u001b[0m",
            "\u001b[0;32m/usr/local/lib/python3.7/dist-packages/pandas/util/_decorators.py\u001b[0m in \u001b[0;36mwrapper\u001b[0;34m(*args, **kwargs)\u001b[0m\n\u001b[1;32m    309\u001b[0m                     \u001b[0mstacklevel\u001b[0m\u001b[0;34m=\u001b[0m\u001b[0mstacklevel\u001b[0m\u001b[0;34m,\u001b[0m\u001b[0;34m\u001b[0m\u001b[0;34m\u001b[0m\u001b[0m\n\u001b[1;32m    310\u001b[0m                 )\n\u001b[0;32m--> 311\u001b[0;31m             \u001b[0;32mreturn\u001b[0m \u001b[0mfunc\u001b[0m\u001b[0;34m(\u001b[0m\u001b[0;34m*\u001b[0m\u001b[0margs\u001b[0m\u001b[0;34m,\u001b[0m \u001b[0;34m**\u001b[0m\u001b[0mkwargs\u001b[0m\u001b[0;34m)\u001b[0m\u001b[0;34m\u001b[0m\u001b[0;34m\u001b[0m\u001b[0m\n\u001b[0m\u001b[1;32m    312\u001b[0m \u001b[0;34m\u001b[0m\u001b[0m\n\u001b[1;32m    313\u001b[0m         \u001b[0;32mreturn\u001b[0m \u001b[0mwrapper\u001b[0m\u001b[0;34m\u001b[0m\u001b[0;34m\u001b[0m\u001b[0m\n",
            "\u001b[0;32m/usr/local/lib/python3.7/dist-packages/pandas/io/parsers/readers.py\u001b[0m in \u001b[0;36mread_csv\u001b[0;34m(filepath_or_buffer, sep, delimiter, header, names, index_col, usecols, squeeze, prefix, mangle_dupe_cols, dtype, engine, converters, true_values, false_values, skipinitialspace, skiprows, skipfooter, nrows, na_values, keep_default_na, na_filter, verbose, skip_blank_lines, parse_dates, infer_datetime_format, keep_date_col, date_parser, dayfirst, cache_dates, iterator, chunksize, compression, thousands, decimal, lineterminator, quotechar, quoting, doublequote, escapechar, comment, encoding, encoding_errors, dialect, error_bad_lines, warn_bad_lines, on_bad_lines, delim_whitespace, low_memory, memory_map, float_precision, storage_options)\u001b[0m\n\u001b[1;32m    584\u001b[0m     \u001b[0mkwds\u001b[0m\u001b[0;34m.\u001b[0m\u001b[0mupdate\u001b[0m\u001b[0;34m(\u001b[0m\u001b[0mkwds_defaults\u001b[0m\u001b[0;34m)\u001b[0m\u001b[0;34m\u001b[0m\u001b[0;34m\u001b[0m\u001b[0m\n\u001b[1;32m    585\u001b[0m \u001b[0;34m\u001b[0m\u001b[0m\n\u001b[0;32m--> 586\u001b[0;31m     \u001b[0;32mreturn\u001b[0m \u001b[0m_read\u001b[0m\u001b[0;34m(\u001b[0m\u001b[0mfilepath_or_buffer\u001b[0m\u001b[0;34m,\u001b[0m \u001b[0mkwds\u001b[0m\u001b[0;34m)\u001b[0m\u001b[0;34m\u001b[0m\u001b[0;34m\u001b[0m\u001b[0m\n\u001b[0m\u001b[1;32m    587\u001b[0m \u001b[0;34m\u001b[0m\u001b[0m\n\u001b[1;32m    588\u001b[0m \u001b[0;34m\u001b[0m\u001b[0m\n",
            "\u001b[0;32m/usr/local/lib/python3.7/dist-packages/pandas/io/parsers/readers.py\u001b[0m in \u001b[0;36m_read\u001b[0;34m(filepath_or_buffer, kwds)\u001b[0m\n\u001b[1;32m    480\u001b[0m \u001b[0;34m\u001b[0m\u001b[0m\n\u001b[1;32m    481\u001b[0m     \u001b[0;31m# Create the parser.\u001b[0m\u001b[0;34m\u001b[0m\u001b[0;34m\u001b[0m\u001b[0;34m\u001b[0m\u001b[0m\n\u001b[0;32m--> 482\u001b[0;31m     \u001b[0mparser\u001b[0m \u001b[0;34m=\u001b[0m \u001b[0mTextFileReader\u001b[0m\u001b[0;34m(\u001b[0m\u001b[0mfilepath_or_buffer\u001b[0m\u001b[0;34m,\u001b[0m \u001b[0;34m**\u001b[0m\u001b[0mkwds\u001b[0m\u001b[0;34m)\u001b[0m\u001b[0;34m\u001b[0m\u001b[0;34m\u001b[0m\u001b[0m\n\u001b[0m\u001b[1;32m    483\u001b[0m \u001b[0;34m\u001b[0m\u001b[0m\n\u001b[1;32m    484\u001b[0m     \u001b[0;32mif\u001b[0m \u001b[0mchunksize\u001b[0m \u001b[0;32mor\u001b[0m \u001b[0miterator\u001b[0m\u001b[0;34m:\u001b[0m\u001b[0;34m\u001b[0m\u001b[0;34m\u001b[0m\u001b[0m\n",
            "\u001b[0;32m/usr/local/lib/python3.7/dist-packages/pandas/io/parsers/readers.py\u001b[0m in \u001b[0;36m__init__\u001b[0;34m(self, f, engine, **kwds)\u001b[0m\n\u001b[1;32m    809\u001b[0m             \u001b[0mself\u001b[0m\u001b[0;34m.\u001b[0m\u001b[0moptions\u001b[0m\u001b[0;34m[\u001b[0m\u001b[0;34m\"has_index_names\"\u001b[0m\u001b[0;34m]\u001b[0m \u001b[0;34m=\u001b[0m \u001b[0mkwds\u001b[0m\u001b[0;34m[\u001b[0m\u001b[0;34m\"has_index_names\"\u001b[0m\u001b[0;34m]\u001b[0m\u001b[0;34m\u001b[0m\u001b[0;34m\u001b[0m\u001b[0m\n\u001b[1;32m    810\u001b[0m \u001b[0;34m\u001b[0m\u001b[0m\n\u001b[0;32m--> 811\u001b[0;31m         \u001b[0mself\u001b[0m\u001b[0;34m.\u001b[0m\u001b[0m_engine\u001b[0m \u001b[0;34m=\u001b[0m \u001b[0mself\u001b[0m\u001b[0;34m.\u001b[0m\u001b[0m_make_engine\u001b[0m\u001b[0;34m(\u001b[0m\u001b[0mself\u001b[0m\u001b[0;34m.\u001b[0m\u001b[0mengine\u001b[0m\u001b[0;34m)\u001b[0m\u001b[0;34m\u001b[0m\u001b[0;34m\u001b[0m\u001b[0m\n\u001b[0m\u001b[1;32m    812\u001b[0m \u001b[0;34m\u001b[0m\u001b[0m\n\u001b[1;32m    813\u001b[0m     \u001b[0;32mdef\u001b[0m \u001b[0mclose\u001b[0m\u001b[0;34m(\u001b[0m\u001b[0mself\u001b[0m\u001b[0;34m)\u001b[0m\u001b[0;34m:\u001b[0m\u001b[0;34m\u001b[0m\u001b[0;34m\u001b[0m\u001b[0m\n",
            "\u001b[0;32m/usr/local/lib/python3.7/dist-packages/pandas/io/parsers/readers.py\u001b[0m in \u001b[0;36m_make_engine\u001b[0;34m(self, engine)\u001b[0m\n\u001b[1;32m   1038\u001b[0m             )\n\u001b[1;32m   1039\u001b[0m         \u001b[0;31m# error: Too many arguments for \"ParserBase\"\u001b[0m\u001b[0;34m\u001b[0m\u001b[0;34m\u001b[0m\u001b[0;34m\u001b[0m\u001b[0m\n\u001b[0;32m-> 1040\u001b[0;31m         \u001b[0;32mreturn\u001b[0m \u001b[0mmapping\u001b[0m\u001b[0;34m[\u001b[0m\u001b[0mengine\u001b[0m\u001b[0;34m]\u001b[0m\u001b[0;34m(\u001b[0m\u001b[0mself\u001b[0m\u001b[0;34m.\u001b[0m\u001b[0mf\u001b[0m\u001b[0;34m,\u001b[0m \u001b[0;34m**\u001b[0m\u001b[0mself\u001b[0m\u001b[0;34m.\u001b[0m\u001b[0moptions\u001b[0m\u001b[0;34m)\u001b[0m  \u001b[0;31m# type: ignore[call-arg]\u001b[0m\u001b[0;34m\u001b[0m\u001b[0;34m\u001b[0m\u001b[0m\n\u001b[0m\u001b[1;32m   1041\u001b[0m \u001b[0;34m\u001b[0m\u001b[0m\n\u001b[1;32m   1042\u001b[0m     \u001b[0;32mdef\u001b[0m \u001b[0m_failover_to_python\u001b[0m\u001b[0;34m(\u001b[0m\u001b[0mself\u001b[0m\u001b[0;34m)\u001b[0m\u001b[0;34m:\u001b[0m\u001b[0;34m\u001b[0m\u001b[0;34m\u001b[0m\u001b[0m\n",
            "\u001b[0;32m/usr/local/lib/python3.7/dist-packages/pandas/io/parsers/c_parser_wrapper.py\u001b[0m in \u001b[0;36m__init__\u001b[0;34m(self, src, **kwds)\u001b[0m\n\u001b[1;32m     49\u001b[0m \u001b[0;34m\u001b[0m\u001b[0m\n\u001b[1;32m     50\u001b[0m         \u001b[0;31m# open handles\u001b[0m\u001b[0;34m\u001b[0m\u001b[0;34m\u001b[0m\u001b[0;34m\u001b[0m\u001b[0m\n\u001b[0;32m---> 51\u001b[0;31m         \u001b[0mself\u001b[0m\u001b[0;34m.\u001b[0m\u001b[0m_open_handles\u001b[0m\u001b[0;34m(\u001b[0m\u001b[0msrc\u001b[0m\u001b[0;34m,\u001b[0m \u001b[0mkwds\u001b[0m\u001b[0;34m)\u001b[0m\u001b[0;34m\u001b[0m\u001b[0;34m\u001b[0m\u001b[0m\n\u001b[0m\u001b[1;32m     52\u001b[0m         \u001b[0;32massert\u001b[0m \u001b[0mself\u001b[0m\u001b[0;34m.\u001b[0m\u001b[0mhandles\u001b[0m \u001b[0;32mis\u001b[0m \u001b[0;32mnot\u001b[0m \u001b[0;32mNone\u001b[0m\u001b[0;34m\u001b[0m\u001b[0;34m\u001b[0m\u001b[0m\n\u001b[1;32m     53\u001b[0m \u001b[0;34m\u001b[0m\u001b[0m\n",
            "\u001b[0;32m/usr/local/lib/python3.7/dist-packages/pandas/io/parsers/base_parser.py\u001b[0m in \u001b[0;36m_open_handles\u001b[0;34m(self, src, kwds)\u001b[0m\n\u001b[1;32m    227\u001b[0m             \u001b[0mmemory_map\u001b[0m\u001b[0;34m=\u001b[0m\u001b[0mkwds\u001b[0m\u001b[0;34m.\u001b[0m\u001b[0mget\u001b[0m\u001b[0;34m(\u001b[0m\u001b[0;34m\"memory_map\"\u001b[0m\u001b[0;34m,\u001b[0m \u001b[0;32mFalse\u001b[0m\u001b[0;34m)\u001b[0m\u001b[0;34m,\u001b[0m\u001b[0;34m\u001b[0m\u001b[0;34m\u001b[0m\u001b[0m\n\u001b[1;32m    228\u001b[0m             \u001b[0mstorage_options\u001b[0m\u001b[0;34m=\u001b[0m\u001b[0mkwds\u001b[0m\u001b[0;34m.\u001b[0m\u001b[0mget\u001b[0m\u001b[0;34m(\u001b[0m\u001b[0;34m\"storage_options\"\u001b[0m\u001b[0;34m,\u001b[0m \u001b[0;32mNone\u001b[0m\u001b[0;34m)\u001b[0m\u001b[0;34m,\u001b[0m\u001b[0;34m\u001b[0m\u001b[0;34m\u001b[0m\u001b[0m\n\u001b[0;32m--> 229\u001b[0;31m             \u001b[0merrors\u001b[0m\u001b[0;34m=\u001b[0m\u001b[0mkwds\u001b[0m\u001b[0;34m.\u001b[0m\u001b[0mget\u001b[0m\u001b[0;34m(\u001b[0m\u001b[0;34m\"encoding_errors\"\u001b[0m\u001b[0;34m,\u001b[0m \u001b[0;34m\"strict\"\u001b[0m\u001b[0;34m)\u001b[0m\u001b[0;34m,\u001b[0m\u001b[0;34m\u001b[0m\u001b[0;34m\u001b[0m\u001b[0m\n\u001b[0m\u001b[1;32m    230\u001b[0m         )\n\u001b[1;32m    231\u001b[0m \u001b[0;34m\u001b[0m\u001b[0m\n",
            "\u001b[0;32m/usr/local/lib/python3.7/dist-packages/pandas/io/common.py\u001b[0m in \u001b[0;36mget_handle\u001b[0;34m(path_or_buf, mode, encoding, compression, memory_map, is_text, errors, storage_options)\u001b[0m\n\u001b[1;32m    705\u001b[0m                 \u001b[0mencoding\u001b[0m\u001b[0;34m=\u001b[0m\u001b[0mioargs\u001b[0m\u001b[0;34m.\u001b[0m\u001b[0mencoding\u001b[0m\u001b[0;34m,\u001b[0m\u001b[0;34m\u001b[0m\u001b[0;34m\u001b[0m\u001b[0m\n\u001b[1;32m    706\u001b[0m                 \u001b[0merrors\u001b[0m\u001b[0;34m=\u001b[0m\u001b[0merrors\u001b[0m\u001b[0;34m,\u001b[0m\u001b[0;34m\u001b[0m\u001b[0;34m\u001b[0m\u001b[0m\n\u001b[0;32m--> 707\u001b[0;31m                 \u001b[0mnewline\u001b[0m\u001b[0;34m=\u001b[0m\u001b[0;34m\"\"\u001b[0m\u001b[0;34m,\u001b[0m\u001b[0;34m\u001b[0m\u001b[0;34m\u001b[0m\u001b[0m\n\u001b[0m\u001b[1;32m    708\u001b[0m             )\n\u001b[1;32m    709\u001b[0m         \u001b[0;32melse\u001b[0m\u001b[0;34m:\u001b[0m\u001b[0;34m\u001b[0m\u001b[0;34m\u001b[0m\u001b[0m\n",
            "\u001b[0;31mFileNotFoundError\u001b[0m: [Errno 2] No such file or directory: 'diabetes.csv'"
          ]
        }
      ],
      "source": [
        "pima = pd.read_csv(\"diabetes.csv\")"
      ]
    },
    {
      "cell_type": "markdown",
      "metadata": {
        "id": "H3SziaVY_bv8"
      },
      "source": [
        "## Q3. Show the last 10 records of the dataset. How many columns are there? (1 Mark)"
      ]
    },
    {
      "cell_type": "code",
      "execution_count": null,
      "metadata": {
        "id": "c4UHQy0q_bv8"
      },
      "outputs": [],
      "source": [
        "pima.tail(10)"
      ]
    },
    {
      "cell_type": "markdown",
      "metadata": {
        "id": "xqzI9UYB_bv9"
      },
      "source": [
        "#ANS Q3:\n",
        "\n",
        "There is a total number of 9 columns in the data (index column is not taken into account since it is assigned when the data is loaded and converted into a data frame)."
      ]
    },
    {
      "cell_type": "markdown",
      "metadata": {
        "id": "xDnQFTsR_bv9"
      },
      "source": [
        "## Q4. Show the first 10 records of the dataset (1 Mark)"
      ]
    },
    {
      "cell_type": "markdown",
      "source": [
        "#Q4 OUTCOME"
      ],
      "metadata": {
        "id": "V1NIx3ID-__m"
      }
    },
    {
      "cell_type": "code",
      "execution_count": null,
      "metadata": {
        "id": "fhOmMaSn_bv-"
      },
      "outputs": [],
      "source": [
        "pima.head(10)"
      ]
    },
    {
      "cell_type": "markdown",
      "metadata": {
        "id": "OzzsF3Pg_bv-"
      },
      "source": [
        "## Q5. What do you understand by the dimension of the dataset? Find the dimension of the `pima` dataframe. (1 Mark)"
      ]
    },
    {
      "cell_type": "code",
      "execution_count": null,
      "metadata": {
        "id": "9QQGBlaw_bv-"
      },
      "outputs": [],
      "source": [
        "pima.shape"
      ]
    },
    {
      "cell_type": "markdown",
      "metadata": {
        "id": "5_7DfrKa_bv_"
      },
      "source": [
        "#ANS Q5:\n",
        "\n",
        "The dimension of the dataset is obtained by calling the method of the dataframe 'shape' and the result is given in a tuple, in which the first element indicates the number of rows present in the dataset, and the second element indicates the number of columns present in the dataset.\n"
      ]
    },
    {
      "cell_type": "markdown",
      "metadata": {
        "id": "V5duvKqA_bv_"
      },
      "source": [
        "## Q6. What do you understand by the size of the dataset? Find the size of the `pima` dataframe. (1 Mark)"
      ]
    },
    {
      "cell_type": "code",
      "execution_count": null,
      "metadata": {
        "id": "yX1yh0Bx_bv_"
      },
      "outputs": [],
      "source": [
        "pima.size"
      ]
    },
    {
      "cell_type": "markdown",
      "metadata": {
        "id": "oILSLGBL_bwA"
      },
      "source": [
        "#ANS Q6: \n",
        "\n",
        "The size of the dataset is obtained by calling the method 'size' of the dataframe, and the result is a scalar, a numpy integer, given by the product of the number of rows by the number of columns, which is the total number of elements.\n"
      ]
    },
    {
      "cell_type": "markdown",
      "metadata": {
        "id": "DyG29Cqz_bwA"
      },
      "source": [
        "## Q7. What are the data types of all the variables in the data set? (2 Marks)\n",
        "**Hint: Use the info() function to get all the information about the dataset.**"
      ]
    },
    {
      "cell_type": "code",
      "execution_count": null,
      "metadata": {
        "id": "INEhm7-M_bwA"
      },
      "outputs": [],
      "source": [
        "pima.info()"
      ]
    },
    {
      "cell_type": "markdown",
      "metadata": {
        "id": "OqnMczju_bwB"
      },
      "source": [
        "#ANS Q7\n",
        "\n",
        "The variables types are:\n",
        "\n",
        "int64 in the case of Pregnancies, Glucose, BloodPressure, SkinThickness, Insulin, Age and Outcome. \n",
        "\n",
        "float64 in the case of BMI and DiabetesPedigreeFunction.\n",
        "\n",
        "int64 represent an integer of 64 bits, while float64 can store digits after decimal points, up to 15 to 17. Despite Outcome being stored as an integer variable, it's actual value it's either yes or no, which would have been better represented with a boolean variable.                                                                    "
      ]
    },
    {
      "cell_type": "markdown",
      "metadata": {
        "id": "wHYJkmek_bwB"
      },
      "source": [
        "## Q8. What do we mean by missing values? Are there any missing values in the `pima` dataframe? (2 Marks)"
      ]
    },
    {
      "cell_type": "code",
      "execution_count": null,
      "metadata": {
        "id": "OiThIwyD_bwB"
      },
      "outputs": [],
      "source": [
        "pima.isnull().values.any()"
      ]
    },
    {
      "cell_type": "markdown",
      "metadata": {
        "id": "CpcpowUT_bwC"
      },
      "source": [
        "#ANS Q8: \n",
        "\n",
        "A missing value is when a given variable doesn't possess a value in an specific position, and it's indicated by the symbol NaN (Not a value)."
      ]
    },
    {
      "cell_type": "markdown",
      "metadata": {
        "id": "RmTpaojz_bwC"
      },
      "source": [
        "## Q9. What do the summary statistics of the data represent? Find the summary statistics for all variables except 'Outcome' in the `pima` data. Take one column/variable from the output table and explain all its statistical measures. (3 Marks)"
      ]
    },
    {
      "cell_type": "code",
      "execution_count": null,
      "metadata": {
        "id": "JuJBDhb-_bwC"
      },
      "outputs": [],
      "source": [
        "pima.iloc[:,0:8].describe()"
      ]
    },
    {
      "cell_type": "code",
      "source": [
        "pima.BMI.describe()"
      ],
      "metadata": {
        "id": "mFKW7hGrSJRI"
      },
      "execution_count": null,
      "outputs": []
    },
    {
      "cell_type": "raw",
      "metadata": {
        "id": "y20K1lOx_bwC"
      },
      "source": [
        "#ANS Q9:\n",
        "\n",
        "\n",
        "The summary statistics of the data is obtained using descriptive statistics over a given variable, when using the describe() function on a DataFrame, the summary of the numerical variables is displayed, in the case of 'Outcome' the value is not calculated since even though the values are numerical, it's indeed a categorical variable (binary or boolean).\n",
        "\n",
        "In the case of the BMI variable, the values are:  mean      32.450805\n",
        "std        6.875374\n",
        "min       18.200000\n",
        "25%       27.500000\n",
        "50%       32.000000\n",
        "75%       36.600000\n",
        "max       67.100000\n",
        "- The average BMI value is approximately 32.45, with a standard deviation of 6.88. \n",
        "- Min value is 18.20 while maximum value is 67.10, for a total range of 48.90.\n",
        "- The median value is 32, which doesn't seem to be too far from the mean value (in comparison with min and max values), but still means that there is a little skewness to the right.\n",
        "- The difference between the median (50%) and the first quartile (25%) is 4.5. The difference between the third quartile (75%) and the median is 4.6; meaning that the distribution seems to be quite symmetric.\n",
        "- The interquartile range is: 9.1, multiplied by 1.5 (according to the criteria used in class) gives a value of 13.65, and from this we obtain an interquartile range of [13.35,50.25], which means that there are not outliers in the smaller values, but there will be outliers in the larger values.\n",
        "\n"
      ]
    },
    {
      "cell_type": "markdown",
      "metadata": {
        "id": "3gO4yNoS_bwD"
      },
      "source": [
        "## Q 10. Plot the distribution plot for the variable 'BloodPressure'. Write detailed observations from the plot. (2 Marks)"
      ]
    },
    {
      "cell_type": "code",
      "execution_count": null,
      "metadata": {
        "id": "k4ulBXrW_bwD"
      },
      "outputs": [],
      "source": [
        "sns.displot(pima['BloodPressure'], kind='kde')\n",
        "plt.show()"
      ]
    },
    {
      "cell_type": "markdown",
      "metadata": {
        "id": "tFmj2sAi_bwD"
      },
      "source": [
        "#ANS Q10:\n",
        "\n",
        "- The distribution seems to be normal because it shows some kind of symmetry around the mean (around 72, and minimum value around 40 and max value around 100).\n",
        "- The small widthness implies a small standard deviation. \n",
        "- There seem to be some extreme values, specially to the right."
      ]
    },
    {
      "cell_type": "markdown",
      "metadata": {
        "id": "H82v-Oiq_bwD"
      },
      "source": [
        "## Q 11. What is the 'BMI' of the person having the highest 'Glucose'? (1 Mark)"
      ]
    },
    {
      "cell_type": "code",
      "execution_count": null,
      "metadata": {
        "id": "-xXHlCS5_bwD"
      },
      "outputs": [],
      "source": [
        "pima[pima['Glucose']==pima['Glucose'].max()]['BMI']"
      ]
    },
    {
      "cell_type": "raw",
      "metadata": {
        "id": "pE2GYrtU_bwE"
      },
      "source": [
        "#ANS Q11:\n",
        "\n",
        "The 'BMI' of the person having the highest 'Glucose' value during the data acquisition is: 42.9."
      ]
    },
    {
      "cell_type": "markdown",
      "metadata": {
        "id": "0xN_VJOl_bwE"
      },
      "source": [
        "\n",
        "## Q12.\n",
        "### 12.1 What is the mean of the variable 'BMI'? \n",
        "### 12.2 What is the median of the variable 'BMI'? \n",
        "### 12.3 What is the mode of the variable 'BMI'?\n",
        "### 12.4 Are the three measures of central tendency equal?\n",
        "\n",
        "### (3 Marks)"
      ]
    },
    {
      "cell_type": "code",
      "execution_count": null,
      "metadata": {
        "id": "-aKQ7UMC_bwE"
      },
      "outputs": [],
      "source": [
        "m1 = pima['BMI'].mean()  # mean\n",
        "print(m1)\n",
        "m2 = pima['BMI'].median()  # median\n",
        "print(m2)\n",
        "m3 = pima['BMI'].mode()[0]  # mode\n",
        "print(m3)\n",
        "\n",
        "equal = lambda x, y, z: print('All three measures of central tendency are equal') if x==y==z else print('Not all the three measures of central tendency are equal')\n",
        "equal(m1,m2,m3)"
      ]
    },
    {
      "cell_type": "markdown",
      "metadata": {
        "id": "F381SOUJ_bwE"
      },
      "source": [
        "#ANS Q12:\n",
        "\n",
        "The values of median and mode are equal, while the the value of the mean is different, however, not for much.\n",
        "\n",
        "This supports the previous statement about the distribution being somehow normal-distributed."
      ]
    },
    {
      "cell_type": "markdown",
      "metadata": {
        "id": "zQgUfx28_bwE"
      },
      "source": [
        "## Q13. How many women's 'Glucose' levels are above the mean level of 'Glucose'? (1 Mark)"
      ]
    },
    {
      "cell_type": "code",
      "execution_count": null,
      "metadata": {
        "id": "elzY2lG0_bwE"
      },
      "outputs": [],
      "source": [
        "pima[pima['Glucose']>pima['Glucose'].mean()].shape[0]"
      ]
    },
    {
      "cell_type": "markdown",
      "metadata": {
        "id": "zNopQzBy_bwF"
      },
      "source": [
        "#ANS Q13:\n",
        "\n",
        "There are 343 women with 'Glucose' level (at the time of examination) higher than the mean (at the time of examination).\n"
      ]
    },
    {
      "cell_type": "markdown",
      "metadata": {
        "id": "TUFPGMGX_bwF"
      },
      "source": [
        "## Q14. How many women have their 'BloodPressure' equal to the median of 'BloodPressure' and their 'BMI' less than the median of 'BMI'? (2 Marks)"
      ]
    },
    {
      "cell_type": "code",
      "execution_count": null,
      "metadata": {
        "id": "wn118oGx_bwF"
      },
      "outputs": [],
      "source": [
        "pima[(pima['BloodPressure']==pima['BloodPressure'].median()) & (pima['BMI']<pima['BMI'].median())].shape[0]"
      ]
    },
    {
      "cell_type": "markdown",
      "metadata": {
        "id": "KgU-UehX_bwF"
      },
      "source": [
        "#ANS Q14:\n",
        "\n",
        "There are 22 women in total who, at the time of the examination, had a 'BloodPressure' equal to the median of 'BloodPressure' and at the same time had a 'BMI' less than the median value of 'BMI'. (Median values calculated for all 768 women who went through the test.)\n"
      ]
    },
    {
      "cell_type": "markdown",
      "metadata": {
        "id": "O8KX8Nva_bwF"
      },
      "source": [
        "## Q15. Create a pairplot for the variables 'Glucose', 'SkinThickness', and 'DiabetesPedigreeFunction'. Write your observations from the plot. (4 Marks)"
      ]
    },
    {
      "cell_type": "code",
      "execution_count": null,
      "metadata": {
        "id": "dDj12snn_bwG"
      },
      "outputs": [],
      "source": [
        "sns.pairplot(data=pima,vars=['Glucose', 'SkinThickness', 'DiabetesPedigreeFunction'], hue='Outcome')\n",
        "plt.show()"
      ]
    },
    {
      "cell_type": "code",
      "source": [
        "#Creating a new DF with different outcomes, Yes = 1, No = 0\n",
        "pimayes = pima[pima['Outcome']==1]\n",
        "pimano = pima[pima['Outcome']==0]\n",
        "\n",
        "#Creating a correlation matrix for each DF, using the selected variables\n",
        "corryes = pimayes[['Glucose', 'SkinThickness', 'DiabetesPedigreeFunction']].corr()\n",
        "corrno = pimano[['Glucose', 'SkinThickness', 'DiabetesPedigreeFunction']].corr()\n",
        "\n",
        "#Displaying the heatmap for each correlation matrix\n",
        "plt.figure(figsize=(10,8))\n",
        "plt.title('Correlation heatmap for women with diabetes')\n",
        "sns.heatmap(corryes, annot = True)\n",
        "plt.show()\n",
        "plt.figure(figsize=(10,8))\n",
        "plt.title('Correlation heatmap for women without diabetes')\n",
        "sns.heatmap(corrno, annot = True)\n",
        "plt.show()\n"
      ],
      "metadata": {
        "id": "iGUsHmnuiCkP"
      },
      "execution_count": null,
      "outputs": []
    },
    {
      "cell_type": "raw",
      "metadata": {
        "id": "S2bPFIk9_bwG"
      },
      "source": [
        "#ANS Q15:\n",
        "\n",
        "- From the pairplot it wasn't possible for myself to observe a correlation whatsoever between the selected variables, however it was not so clear to me.\n",
        "- An analysis using the correlation matrix, and visualy using a pairplot was carried out. \n",
        "- From the heatmap, it can be confirmed that there is no high correlation between the selected values, however, the correlation between Skin Thickness and Diabetes PedigreeFunction seems to be larger for women with Diabetes, nevertheless, this value doesn't indicate a great correlation between both variables.\n"
      ]
    },
    {
      "cell_type": "markdown",
      "metadata": {
        "id": "pTzCIQOb_bwG"
      },
      "source": [
        "## Q16. Plot the scatterplot between 'Glucose' and 'Insulin'. Write your observations from the plot. (2 Marks)"
      ]
    },
    {
      "cell_type": "code",
      "execution_count": null,
      "metadata": {
        "id": "CNHLuzOD_bwG",
        "scrolled": false
      },
      "outputs": [],
      "source": [
        "sns.scatterplot(x='Glucose',y='Insulin',data=pima)\n",
        "plt.show()\n",
        "sns.scatterplot(x='Glucose',y='Insulin',data=pima, hue='Outcome')\n",
        "plt.show()"
      ]
    },
    {
      "cell_type": "markdown",
      "metadata": {
        "id": "1AhKhAbf_bwG"
      },
      "source": [
        "#ANS Q16:\n",
        "\n",
        "- From the graph it can be seen that there seems to be some correlation between the 'Glucose' value and the 'Insulin'.\n",
        "- There seems to be a lot of women with a constant value of Insulin. \\\n",
        "<br>**To better analyse the data, a new graph using a hue according to the diabetes outcome was made**:\n",
        "- The correlation between the 'Glucose' value and the 'Insulin' seems to hold either for women with diabetes, as well as for the women without diabetes.\n",
        "- The constant value of Insulin is present for both outcomes.\n"
      ]
    },
    {
      "cell_type": "markdown",
      "metadata": {
        "id": "NzGHKjXv_bwG"
      },
      "source": [
        "## Q 17. Plot the boxplot for the 'Age' variable. Are there outliers? (2 Marks)"
      ]
    },
    {
      "cell_type": "code",
      "execution_count": null,
      "metadata": {
        "id": "zmWjERJM_bwH"
      },
      "outputs": [],
      "source": [
        "plt.boxplot(pima['Age'])\n",
        "\n",
        "plt.title('Boxplot of Age')\n",
        "plt.ylabel('Age')\n",
        "plt.show()"
      ]
    },
    {
      "cell_type": "markdown",
      "metadata": {
        "id": "Vm5bRpLz_bwH"
      },
      "source": [
        "#ANS Q17:\n",
        "\n",
        "There are outliers, mainly for older ages, around 67 years and older. It can be observed from the blank-filled dots outside the inter quartile range indicated by straight lines. \n"
      ]
    },
    {
      "cell_type": "markdown",
      "metadata": {
        "id": "M6A_z8kr_bwH"
      },
      "source": [
        "## Q18. Plot histograms for the 'Age' variable to understand the number of women in different age groups given whether they have diabetes or not. Explain both histograms and compare them. (3 Marks)"
      ]
    },
    {
      "cell_type": "code",
      "source": [
        "plt.hist(pima[pima['Outcome']==1]['Age'], bins = 5)\n",
        "plt.title('Distribution of Age for Women who have Diabetes')\n",
        "plt.xlabel('Age')\n",
        "plt.ylabel('Frequency')\n",
        "plt.show()"
      ],
      "metadata": {
        "id": "G3pCDMRnyR5k"
      },
      "execution_count": null,
      "outputs": []
    },
    {
      "cell_type": "code",
      "source": [
        "plt.hist(pima[pima['Outcome']==0]['Age'], bins = 5)\n",
        "plt.title('Distribution of Age for Women who do not have Diabetes')\n",
        "plt.xlabel('Age')\n",
        "plt.ylabel('Frequency')\n",
        "plt.show()"
      ],
      "metadata": {
        "id": "xN90EwiWyYRg"
      },
      "execution_count": null,
      "outputs": []
    },
    {
      "cell_type": "code",
      "execution_count": null,
      "metadata": {
        "id": "5DpqaiXH_bwH"
      },
      "outputs": [],
      "source": [
        "sns.histplot(data=pima, x='Age', hue='Outcome', bins = 5, multiple=\"stack\")\n",
        "plt.title('Distribution of Age for Women who has Diabetes')\n",
        "plt.xlabel('Age')\n",
        "plt.ylabel('Frequency')\n",
        "plt.show()"
      ]
    },
    {
      "cell_type": "code",
      "source": [
        "print(pima[pima['Outcome']==0]['Age'].median())\n",
        "print(pima[pima['Outcome']==1]['Age'].median())\n",
        "print(pima[pima['Outcome']==0]['Age'].mean())\n",
        "print(pima[pima['Outcome']==1]['Age'].mean())"
      ],
      "metadata": {
        "id": "zsPDqfojzdB-"
      },
      "execution_count": null,
      "outputs": []
    },
    {
      "cell_type": "markdown",
      "metadata": {
        "id": "InfhuW8o_bwH"
      },
      "source": [
        "#ANS Q18:\n",
        "\n",
        "- The age distribution for women without diabetes is clearly skewed to the left, with a mean surely between 21 and 32 years, other central tendencies measurements as median and mode will most likely have a value somewhere between the interval values' of the first bin.\n",
        "- The age distribution for women with diabetes is skewed to the left as well, the central values are probably around the first bin, and they should be closer than those corresponding to the women without diabetes, since the distribution is more smoothly distributed, it's not so clear where the mode can be found, but could be around the first bin.\n",
        "<br>\n",
        "- When comparing both histograms, it can be seen that there are way many more women who don't have diabetes around the age comprised in the first bin, and therefore the distribution is clearly more skewed than that of the women who have diabetes.\n",
        "\n",
        "\n",
        "\n",
        "\n",
        "\n",
        "\n",
        "\n"
      ]
    },
    {
      "cell_type": "markdown",
      "metadata": {
        "id": "EpTEjZ-q_bwI"
      },
      "source": [
        "## Q 19. What is the Interquartile Range of all the variables? Why is this used? Which plot visualizes the same? (2 Marks)"
      ]
    },
    {
      "cell_type": "code",
      "execution_count": null,
      "metadata": {
        "id": "JVOqHx1W_bwI"
      },
      "outputs": [],
      "source": [
        "Q1 = pima.quantile(0.25)\n",
        "Q3 = pima.quantile(0.75)\n",
        "IQR = Q3 - Q1\n",
        "print(IQR)"
      ]
    },
    {
      "cell_type": "markdown",
      "metadata": {
        "id": "WWtc2nex_bwI"
      },
      "source": [
        "#ANS Q19\n",
        "\n",
        "The IQ range indicates the value of the range where 50% of the data is distributed, can also be used to determine a range outside of which, the values are taken as outliers.\\\n",
        "Using separately the range between Q1 and Q2 (median) and between Q2 and Q3, the skewness of the distribution can be determined."
      ]
    },
    {
      "cell_type": "markdown",
      "metadata": {
        "id": "KjldKKMs_bwI"
      },
      "source": [
        "## Q 20. Find and visualize the correlation matrix. Write your observations from the plot. (3 Marks)"
      ]
    },
    {
      "cell_type": "code",
      "execution_count": null,
      "metadata": {
        "id": "dvBVRRM8_bwI"
      },
      "outputs": [],
      "source": [
        "corr_matrix = pima.iloc[:,0:8].corr()\n",
        "\n",
        "corr_matrix"
      ]
    },
    {
      "cell_type": "code",
      "execution_count": null,
      "metadata": {
        "id": "Ju8Gymxw_bwJ"
      },
      "outputs": [],
      "source": [
        "plt.figure(figsize=(8,8))\n",
        "sns.heatmap(corr_matrix, annot = True)\n",
        "\n",
        "# display the plot\n",
        "plt.show()"
      ]
    },
    {
      "cell_type": "markdown",
      "metadata": {
        "id": "Woaq6vqT_bwJ"
      },
      "source": [
        "#ANS Q20\n",
        "\n",
        "- Overall, there doesn't seem to be a high correlation between any two variables.\n",
        "- The highest correlations seems to be between BMI and skin thickness, and age and pregnancies.\n",
        "- In the case of age and pregnancies seems reasonably to find a positive correlation, since the older the woman is, the more children that could have bared.\n",
        "- The variables Pregnancies and Insulin, have a negative correlation, but since it's value is so small, their relation can be disregarded, as well as in the case of Pregnancies and DiabetesPedigreeFunction.\n"
      ]
    }
  ],
  "metadata": {
    "colab": {
      "collapsed_sections": [
        "5_7DfrKa_bv_",
        "V5duvKqA_bv_",
        "oILSLGBL_bwA",
        "DyG29Cqz_bwA",
        "OqnMczju_bwB",
        "wHYJkmek_bwB",
        "CpcpowUT_bwC",
        "RmTpaojz_bwC",
        "-aYGSoyf_bwC",
        "3gO4yNoS_bwD",
        "tFmj2sAi_bwD",
        "H82v-Oiq_bwD",
        "JiUByWjP_bwE",
        "0xN_VJOl_bwE",
        "F381SOUJ_bwE",
        "zQgUfx28_bwE",
        "zNopQzBy_bwF",
        "TUFPGMGX_bwF",
        "KgU-UehX_bwF",
        "O8KX8Nva_bwF",
        "S7CMbCwL_bwG",
        "pTzCIQOb_bwG",
        "1AhKhAbf_bwG",
        "NzGHKjXv_bwG",
        "Vm5bRpLz_bwH",
        "M6A_z8kr_bwH",
        "InfhuW8o_bwH",
        "EpTEjZ-q_bwI",
        "WWtc2nex_bwI",
        "KjldKKMs_bwI",
        "Woaq6vqT_bwJ"
      ],
      "name": "Pima+Indians+Diabetes+Analysis.ipynb",
      "provenance": [],
      "toc_visible": true,
      "include_colab_link": true
    },
    "kernelspec": {
      "display_name": "Python 3 (ipykernel)",
      "language": "python",
      "name": "python3"
    },
    "language_info": {
      "codemirror_mode": {
        "name": "ipython",
        "version": 3
      },
      "file_extension": ".py",
      "mimetype": "text/x-python",
      "name": "python",
      "nbconvert_exporter": "python",
      "pygments_lexer": "ipython3",
      "version": "3.9.7"
    },
    "toc": {
      "base_numbering": 1,
      "nav_menu": {},
      "number_sections": true,
      "sideBar": true,
      "skip_h1_title": false,
      "title_cell": "Table of Contents",
      "title_sidebar": "Contents",
      "toc_cell": false,
      "toc_position": {},
      "toc_section_display": true,
      "toc_window_display": false
    },
    "varInspector": {
      "cols": {
        "lenName": 16,
        "lenType": 16,
        "lenVar": 40
      },
      "kernels_config": {
        "python": {
          "delete_cmd_postfix": "",
          "delete_cmd_prefix": "del ",
          "library": "var_list.py",
          "varRefreshCmd": "print(var_dic_list())"
        },
        "r": {
          "delete_cmd_postfix": ") ",
          "delete_cmd_prefix": "rm(",
          "library": "var_list.r",
          "varRefreshCmd": "cat(var_dic_list()) "
        }
      },
      "types_to_exclude": [
        "module",
        "function",
        "builtin_function_or_method",
        "instance",
        "_Feature"
      ],
      "window_display": false
    }
  },
  "nbformat": 4,
  "nbformat_minor": 0
}